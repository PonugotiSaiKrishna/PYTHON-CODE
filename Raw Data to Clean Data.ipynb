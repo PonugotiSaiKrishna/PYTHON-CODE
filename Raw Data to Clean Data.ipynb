{
 "cells": [
  {
   "cell_type": "code",
   "execution_count": 1,
   "id": "98ec4d75-79bd-49dd-8481-26b696dad46c",
   "metadata": {},
   "outputs": [],
   "source": [
    "import pandas as pd"
   ]
  },
  {
   "cell_type": "code",
   "execution_count": 3,
   "id": "521dd74d-5550-420a-b762-420e56938cbe",
   "metadata": {},
   "outputs": [],
   "source": [
    "Data = pd.read_excel (r'C:\\Users\\vrssv\\Desktop\\Data Analyst\\19. Kaggle, Date & Time Split (Nov 18)\\TASK\\TASK -- convert raw data - clean data.xlsx')"
   ]
  },
  {
   "cell_type": "code",
   "execution_count": 5,
   "id": "1ca7ea09-b83b-4584-bb09-0cd0291e7178",
   "metadata": {},
   "outputs": [
    {
     "data": {
      "text/html": [
       "<div>\n",
       "<style scoped>\n",
       "    .dataframe tbody tr th:only-of-type {\n",
       "        vertical-align: middle;\n",
       "    }\n",
       "\n",
       "    .dataframe tbody tr th {\n",
       "        vertical-align: top;\n",
       "    }\n",
       "\n",
       "    .dataframe thead th {\n",
       "        text-align: right;\n",
       "    }\n",
       "</style>\n",
       "<table border=\"1\" class=\"dataframe\">\n",
       "  <thead>\n",
       "    <tr style=\"text-align: right;\">\n",
       "      <th></th>\n",
       "      <th>ADDR</th>\n",
       "      <th>DT</th>\n",
       "      <th>NAME</th>\n",
       "      <th>time</th>\n",
       "    </tr>\n",
       "  </thead>\n",
       "  <tbody>\n",
       "    <tr>\n",
       "      <th>0</th>\n",
       "      <td>45 rd, kenith street, btm, bangalore 500038</td>\n",
       "      <td>2022-04-03</td>\n",
       "      <td>Lavanya</td>\n",
       "      <td>8:30:21</td>\n",
       "    </tr>\n",
       "    <tr>\n",
       "      <th>1</th>\n",
       "      <td>45 rd,  street, hitech, Hd 500038</td>\n",
       "      <td>2022-04-02</td>\n",
       "      <td>Ramya</td>\n",
       "      <td>5:30:21</td>\n",
       "    </tr>\n",
       "  </tbody>\n",
       "</table>\n",
       "</div>"
      ],
      "text/plain": [
       "                                          ADDR         DT     NAME     time\n",
       "0  45 rd, kenith street, btm, bangalore 500038 2022-04-03  Lavanya  8:30:21\n",
       "1            45 rd,  street, hitech, Hd 500038 2022-04-02    Ramya  5:30:21"
      ]
     },
     "execution_count": 5,
     "metadata": {},
     "output_type": "execute_result"
    }
   ],
   "source": [
    "Data"
   ]
  },
  {
   "cell_type": "code",
   "execution_count": 7,
   "id": "cfcd6244-43ba-4b34-9b84-b1685ef2e1e9",
   "metadata": {},
   "outputs": [],
   "source": [
    "Data.iloc[0,0] = ('43rd, Kenith Street, BTM, Bangalore, 500038')\n",
    "Data.iloc[1,0] = ('45th, Street, Hi-Tech, Hyderabad, 500040')               "
   ]
  },
  {
   "cell_type": "code",
   "execution_count": 9,
   "id": "99312a53-486e-4baf-a4c8-9cb63bda30a4",
   "metadata": {},
   "outputs": [
    {
     "data": {
      "text/html": [
       "<div>\n",
       "<style scoped>\n",
       "    .dataframe tbody tr th:only-of-type {\n",
       "        vertical-align: middle;\n",
       "    }\n",
       "\n",
       "    .dataframe tbody tr th {\n",
       "        vertical-align: top;\n",
       "    }\n",
       "\n",
       "    .dataframe thead th {\n",
       "        text-align: right;\n",
       "    }\n",
       "</style>\n",
       "<table border=\"1\" class=\"dataframe\">\n",
       "  <thead>\n",
       "    <tr style=\"text-align: right;\">\n",
       "      <th></th>\n",
       "      <th>ADDR</th>\n",
       "      <th>DT</th>\n",
       "      <th>NAME</th>\n",
       "      <th>time</th>\n",
       "    </tr>\n",
       "  </thead>\n",
       "  <tbody>\n",
       "    <tr>\n",
       "      <th>0</th>\n",
       "      <td>43rd, Kenith Street, BTM, Bangalore, 500038</td>\n",
       "      <td>2022-04-03</td>\n",
       "      <td>Lavanya</td>\n",
       "      <td>8:30:21</td>\n",
       "    </tr>\n",
       "    <tr>\n",
       "      <th>1</th>\n",
       "      <td>45th, Street, Hi-Tech, Hyderabad, 500040</td>\n",
       "      <td>2022-04-02</td>\n",
       "      <td>Ramya</td>\n",
       "      <td>5:30:21</td>\n",
       "    </tr>\n",
       "  </tbody>\n",
       "</table>\n",
       "</div>"
      ],
      "text/plain": [
       "                                          ADDR         DT     NAME     time\n",
       "0  43rd, Kenith Street, BTM, Bangalore, 500038 2022-04-03  Lavanya  8:30:21\n",
       "1     45th, Street, Hi-Tech, Hyderabad, 500040 2022-04-02    Ramya  5:30:21"
      ]
     },
     "execution_count": 9,
     "metadata": {},
     "output_type": "execute_result"
    }
   ],
   "source": [
    "Data"
   ]
  },
  {
   "cell_type": "code",
   "execution_count": 11,
   "id": "1755492a-f6c4-47f5-9782-157aa45d42ad",
   "metadata": {},
   "outputs": [
    {
     "name": "stdout",
     "output_type": "stream",
     "text": [
      "<class 'pandas.core.frame.DataFrame'>\n",
      "RangeIndex: 2 entries, 0 to 1\n",
      "Data columns (total 4 columns):\n",
      " #   Column  Non-Null Count  Dtype         \n",
      "---  ------  --------------  -----         \n",
      " 0   ADDR    2 non-null      object        \n",
      " 1   DT      2 non-null      datetime64[ns]\n",
      " 2   NAME    2 non-null      object        \n",
      " 3   time    2 non-null      object        \n",
      "dtypes: datetime64[ns](1), object(3)\n",
      "memory usage: 196.0+ bytes\n"
     ]
    }
   ],
   "source": [
    "Data.info()"
   ]
  },
  {
   "cell_type": "code",
   "execution_count": 13,
   "id": "79b02abc-b048-42ec-bbba-a5c1487abe0c",
   "metadata": {},
   "outputs": [],
   "source": [
    "Data[['ROAD','STREET','AREA','CITY','ZIP']] = Data['ADDR'].str.split(',', expand = True)"
   ]
  },
  {
   "cell_type": "code",
   "execution_count": 15,
   "id": "10be0083-1dc2-4914-8f25-68eb2c79bd66",
   "metadata": {},
   "outputs": [
    {
     "data": {
      "text/html": [
       "<div>\n",
       "<style scoped>\n",
       "    .dataframe tbody tr th:only-of-type {\n",
       "        vertical-align: middle;\n",
       "    }\n",
       "\n",
       "    .dataframe tbody tr th {\n",
       "        vertical-align: top;\n",
       "    }\n",
       "\n",
       "    .dataframe thead th {\n",
       "        text-align: right;\n",
       "    }\n",
       "</style>\n",
       "<table border=\"1\" class=\"dataframe\">\n",
       "  <thead>\n",
       "    <tr style=\"text-align: right;\">\n",
       "      <th></th>\n",
       "      <th>ADDR</th>\n",
       "      <th>DT</th>\n",
       "      <th>NAME</th>\n",
       "      <th>time</th>\n",
       "      <th>ROAD</th>\n",
       "      <th>STREET</th>\n",
       "      <th>AREA</th>\n",
       "      <th>CITY</th>\n",
       "      <th>ZIP</th>\n",
       "    </tr>\n",
       "  </thead>\n",
       "  <tbody>\n",
       "    <tr>\n",
       "      <th>0</th>\n",
       "      <td>43rd, Kenith Street, BTM, Bangalore, 500038</td>\n",
       "      <td>2022-04-03</td>\n",
       "      <td>Lavanya</td>\n",
       "      <td>8:30:21</td>\n",
       "      <td>43rd</td>\n",
       "      <td>Kenith Street</td>\n",
       "      <td>BTM</td>\n",
       "      <td>Bangalore</td>\n",
       "      <td>500038</td>\n",
       "    </tr>\n",
       "    <tr>\n",
       "      <th>1</th>\n",
       "      <td>45th, Street, Hi-Tech, Hyderabad, 500040</td>\n",
       "      <td>2022-04-02</td>\n",
       "      <td>Ramya</td>\n",
       "      <td>5:30:21</td>\n",
       "      <td>45th</td>\n",
       "      <td>Street</td>\n",
       "      <td>Hi-Tech</td>\n",
       "      <td>Hyderabad</td>\n",
       "      <td>500040</td>\n",
       "    </tr>\n",
       "  </tbody>\n",
       "</table>\n",
       "</div>"
      ],
      "text/plain": [
       "                                          ADDR         DT     NAME     time  \\\n",
       "0  43rd, Kenith Street, BTM, Bangalore, 500038 2022-04-03  Lavanya  8:30:21   \n",
       "1     45th, Street, Hi-Tech, Hyderabad, 500040 2022-04-02    Ramya  5:30:21   \n",
       "\n",
       "   ROAD          STREET      AREA        CITY      ZIP  \n",
       "0  43rd   Kenith Street       BTM   Bangalore   500038  \n",
       "1  45th          Street   Hi-Tech   Hyderabad   500040  "
      ]
     },
     "execution_count": 15,
     "metadata": {},
     "output_type": "execute_result"
    }
   ],
   "source": [
    "Data"
   ]
  },
  {
   "cell_type": "code",
   "execution_count": 17,
   "id": "4d1c745d-94b7-43e8-bd94-8f95ffc47487",
   "metadata": {},
   "outputs": [],
   "source": [
    "Data['Day'] = Data['DT'].dt.day\n",
    "Data['Month'] = Data['DT'].dt.month\n",
    "Data['Year'] = Data['DT'].dt.year"
   ]
  },
  {
   "cell_type": "code",
   "execution_count": 19,
   "id": "b9017d82-8c03-4880-a3b5-d23e76d3a081",
   "metadata": {},
   "outputs": [],
   "source": [
    "Data[['Hours','Minutes','Seconds']] = Data['time'].str.split(':', expand = True)"
   ]
  },
  {
   "cell_type": "code",
   "execution_count": 21,
   "id": "cfece967-1ab6-4ba1-91c3-8f5542fd233c",
   "metadata": {},
   "outputs": [
    {
     "data": {
      "text/html": [
       "<div>\n",
       "<style scoped>\n",
       "    .dataframe tbody tr th:only-of-type {\n",
       "        vertical-align: middle;\n",
       "    }\n",
       "\n",
       "    .dataframe tbody tr th {\n",
       "        vertical-align: top;\n",
       "    }\n",
       "\n",
       "    .dataframe thead th {\n",
       "        text-align: right;\n",
       "    }\n",
       "</style>\n",
       "<table border=\"1\" class=\"dataframe\">\n",
       "  <thead>\n",
       "    <tr style=\"text-align: right;\">\n",
       "      <th></th>\n",
       "      <th>ADDR</th>\n",
       "      <th>DT</th>\n",
       "      <th>NAME</th>\n",
       "      <th>time</th>\n",
       "      <th>ROAD</th>\n",
       "      <th>STREET</th>\n",
       "      <th>AREA</th>\n",
       "      <th>CITY</th>\n",
       "      <th>ZIP</th>\n",
       "      <th>Day</th>\n",
       "      <th>Month</th>\n",
       "      <th>Year</th>\n",
       "      <th>Hours</th>\n",
       "      <th>Minutes</th>\n",
       "      <th>Seconds</th>\n",
       "    </tr>\n",
       "  </thead>\n",
       "  <tbody>\n",
       "    <tr>\n",
       "      <th>0</th>\n",
       "      <td>43rd, Kenith Street, BTM, Bangalore, 500038</td>\n",
       "      <td>2022-04-03</td>\n",
       "      <td>Lavanya</td>\n",
       "      <td>8:30:21</td>\n",
       "      <td>43rd</td>\n",
       "      <td>Kenith Street</td>\n",
       "      <td>BTM</td>\n",
       "      <td>Bangalore</td>\n",
       "      <td>500038</td>\n",
       "      <td>3</td>\n",
       "      <td>4</td>\n",
       "      <td>2022</td>\n",
       "      <td>8</td>\n",
       "      <td>30</td>\n",
       "      <td>21</td>\n",
       "    </tr>\n",
       "    <tr>\n",
       "      <th>1</th>\n",
       "      <td>45th, Street, Hi-Tech, Hyderabad, 500040</td>\n",
       "      <td>2022-04-02</td>\n",
       "      <td>Ramya</td>\n",
       "      <td>5:30:21</td>\n",
       "      <td>45th</td>\n",
       "      <td>Street</td>\n",
       "      <td>Hi-Tech</td>\n",
       "      <td>Hyderabad</td>\n",
       "      <td>500040</td>\n",
       "      <td>2</td>\n",
       "      <td>4</td>\n",
       "      <td>2022</td>\n",
       "      <td>5</td>\n",
       "      <td>30</td>\n",
       "      <td>21</td>\n",
       "    </tr>\n",
       "  </tbody>\n",
       "</table>\n",
       "</div>"
      ],
      "text/plain": [
       "                                          ADDR         DT     NAME     time  \\\n",
       "0  43rd, Kenith Street, BTM, Bangalore, 500038 2022-04-03  Lavanya  8:30:21   \n",
       "1     45th, Street, Hi-Tech, Hyderabad, 500040 2022-04-02    Ramya  5:30:21   \n",
       "\n",
       "   ROAD          STREET      AREA        CITY      ZIP  Day  Month  Year  \\\n",
       "0  43rd   Kenith Street       BTM   Bangalore   500038    3      4  2022   \n",
       "1  45th          Street   Hi-Tech   Hyderabad   500040    2      4  2022   \n",
       "\n",
       "  Hours Minutes Seconds  \n",
       "0     8      30      21  \n",
       "1     5      30      21  "
      ]
     },
     "execution_count": 21,
     "metadata": {},
     "output_type": "execute_result"
    }
   ],
   "source": [
    "Data"
   ]
  },
  {
   "cell_type": "code",
   "execution_count": 27,
   "id": "735151b9-b40f-413f-8b0e-f973f3722c83",
   "metadata": {},
   "outputs": [],
   "source": [
    "Data.drop(['ADDR','DT','time'], axis = 1, inplace = True)"
   ]
  },
  {
   "cell_type": "code",
   "execution_count": 29,
   "id": "35790994-4f7a-474f-bad3-4c1a84158fa8",
   "metadata": {},
   "outputs": [],
   "source": [
    "Clean_Data = Data"
   ]
  },
  {
   "cell_type": "code",
   "execution_count": 31,
   "id": "c69335b1-2657-4c1f-ae10-d03f7361d1dc",
   "metadata": {},
   "outputs": [
    {
     "data": {
      "text/html": [
       "<div>\n",
       "<style scoped>\n",
       "    .dataframe tbody tr th:only-of-type {\n",
       "        vertical-align: middle;\n",
       "    }\n",
       "\n",
       "    .dataframe tbody tr th {\n",
       "        vertical-align: top;\n",
       "    }\n",
       "\n",
       "    .dataframe thead th {\n",
       "        text-align: right;\n",
       "    }\n",
       "</style>\n",
       "<table border=\"1\" class=\"dataframe\">\n",
       "  <thead>\n",
       "    <tr style=\"text-align: right;\">\n",
       "      <th></th>\n",
       "      <th>NAME</th>\n",
       "      <th>ROAD</th>\n",
       "      <th>STREET</th>\n",
       "      <th>AREA</th>\n",
       "      <th>CITY</th>\n",
       "      <th>ZIP</th>\n",
       "      <th>Day</th>\n",
       "      <th>Month</th>\n",
       "      <th>Year</th>\n",
       "      <th>Hours</th>\n",
       "      <th>Minutes</th>\n",
       "      <th>Seconds</th>\n",
       "    </tr>\n",
       "  </thead>\n",
       "  <tbody>\n",
       "    <tr>\n",
       "      <th>0</th>\n",
       "      <td>Lavanya</td>\n",
       "      <td>43rd</td>\n",
       "      <td>Kenith Street</td>\n",
       "      <td>BTM</td>\n",
       "      <td>Bangalore</td>\n",
       "      <td>500038</td>\n",
       "      <td>3</td>\n",
       "      <td>4</td>\n",
       "      <td>2022</td>\n",
       "      <td>8</td>\n",
       "      <td>30</td>\n",
       "      <td>21</td>\n",
       "    </tr>\n",
       "    <tr>\n",
       "      <th>1</th>\n",
       "      <td>Ramya</td>\n",
       "      <td>45th</td>\n",
       "      <td>Street</td>\n",
       "      <td>Hi-Tech</td>\n",
       "      <td>Hyderabad</td>\n",
       "      <td>500040</td>\n",
       "      <td>2</td>\n",
       "      <td>4</td>\n",
       "      <td>2022</td>\n",
       "      <td>5</td>\n",
       "      <td>30</td>\n",
       "      <td>21</td>\n",
       "    </tr>\n",
       "  </tbody>\n",
       "</table>\n",
       "</div>"
      ],
      "text/plain": [
       "      NAME  ROAD          STREET      AREA        CITY      ZIP  Day  Month  \\\n",
       "0  Lavanya  43rd   Kenith Street       BTM   Bangalore   500038    3      4   \n",
       "1    Ramya  45th          Street   Hi-Tech   Hyderabad   500040    2      4   \n",
       "\n",
       "   Year Hours Minutes Seconds  \n",
       "0  2022     8      30      21  \n",
       "1  2022     5      30      21  "
      ]
     },
     "execution_count": 31,
     "metadata": {},
     "output_type": "execute_result"
    }
   ],
   "source": [
    "Clean_Data"
   ]
  },
  {
   "cell_type": "code",
   "execution_count": 33,
   "id": "c1300807-aa73-45ce-9890-57f9a3561081",
   "metadata": {},
   "outputs": [],
   "source": [
    "Data.to_excel(r'C:\\Users\\vrssv\\Desktop\\Data Analyst\\19. Kaggle, Date & Time Split (Nov 18)\\TASK\\Clean_Data.xlsx', index = False)"
   ]
  },
  {
   "cell_type": "code",
   "execution_count": 35,
   "id": "062581f2-360d-491c-8591-555444a39286",
   "metadata": {},
   "outputs": [
    {
     "data": {
      "text/html": [
       "<div>\n",
       "<style scoped>\n",
       "    .dataframe tbody tr th:only-of-type {\n",
       "        vertical-align: middle;\n",
       "    }\n",
       "\n",
       "    .dataframe tbody tr th {\n",
       "        vertical-align: top;\n",
       "    }\n",
       "\n",
       "    .dataframe thead th {\n",
       "        text-align: right;\n",
       "    }\n",
       "</style>\n",
       "<table border=\"1\" class=\"dataframe\">\n",
       "  <thead>\n",
       "    <tr style=\"text-align: right;\">\n",
       "      <th></th>\n",
       "      <th>NAME</th>\n",
       "      <th>ROAD</th>\n",
       "      <th>STREET</th>\n",
       "      <th>AREA</th>\n",
       "      <th>CITY</th>\n",
       "      <th>ZIP</th>\n",
       "      <th>Day</th>\n",
       "      <th>Month</th>\n",
       "      <th>Year</th>\n",
       "      <th>Hours</th>\n",
       "      <th>Minutes</th>\n",
       "      <th>Seconds</th>\n",
       "    </tr>\n",
       "  </thead>\n",
       "  <tbody>\n",
       "    <tr>\n",
       "      <th>0</th>\n",
       "      <td>Lavanya</td>\n",
       "      <td>43rd</td>\n",
       "      <td>Kenith Street</td>\n",
       "      <td>BTM</td>\n",
       "      <td>Bangalore</td>\n",
       "      <td>500038</td>\n",
       "      <td>3</td>\n",
       "      <td>4</td>\n",
       "      <td>2022</td>\n",
       "      <td>8</td>\n",
       "      <td>30</td>\n",
       "      <td>21</td>\n",
       "    </tr>\n",
       "    <tr>\n",
       "      <th>1</th>\n",
       "      <td>Ramya</td>\n",
       "      <td>45th</td>\n",
       "      <td>Street</td>\n",
       "      <td>Hi-Tech</td>\n",
       "      <td>Hyderabad</td>\n",
       "      <td>500040</td>\n",
       "      <td>2</td>\n",
       "      <td>4</td>\n",
       "      <td>2022</td>\n",
       "      <td>5</td>\n",
       "      <td>30</td>\n",
       "      <td>21</td>\n",
       "    </tr>\n",
       "  </tbody>\n",
       "</table>\n",
       "</div>"
      ],
      "text/plain": [
       "      NAME  ROAD          STREET      AREA        CITY      ZIP  Day  Month  \\\n",
       "0  Lavanya  43rd   Kenith Street       BTM   Bangalore   500038    3      4   \n",
       "1    Ramya  45th          Street   Hi-Tech   Hyderabad   500040    2      4   \n",
       "\n",
       "   Year Hours Minutes Seconds  \n",
       "0  2022     8      30      21  \n",
       "1  2022     5      30      21  "
      ]
     },
     "execution_count": 35,
     "metadata": {},
     "output_type": "execute_result"
    }
   ],
   "source": [
    "Clean_Data"
   ]
  },
  {
   "cell_type": "code",
   "execution_count": null,
   "id": "b92a7af7-18bc-4e45-9ef6-ba7102762168",
   "metadata": {},
   "outputs": [],
   "source": []
  },
  {
   "cell_type": "code",
   "execution_count": null,
   "id": "cc0391b4-7729-4703-a90c-cbe1c23d4ea7",
   "metadata": {},
   "outputs": [],
   "source": []
  },
  {
   "cell_type": "code",
   "execution_count": null,
   "id": "a808f647-737d-4c97-ab5b-a51ba9e38d55",
   "metadata": {},
   "outputs": [],
   "source": []
  },
  {
   "cell_type": "code",
   "execution_count": null,
   "id": "5d39493c-d9e2-40c5-a2e1-938089e41ffb",
   "metadata": {},
   "outputs": [],
   "source": []
  }
 ],
 "metadata": {
  "kernelspec": {
   "display_name": "Python 3 (ipykernel)",
   "language": "python",
   "name": "python3"
  },
  "language_info": {
   "codemirror_mode": {
    "name": "ipython",
    "version": 3
   },
   "file_extension": ".py",
   "mimetype": "text/x-python",
   "name": "python",
   "nbconvert_exporter": "python",
   "pygments_lexer": "ipython3",
   "version": "3.12.7"
  }
 },
 "nbformat": 4,
 "nbformat_minor": 5
}
